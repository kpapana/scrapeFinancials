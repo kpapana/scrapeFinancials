{
 "cells": [
  {
   "cell_type": "code",
   "execution_count": 1,
   "metadata": {},
   "outputs": [],
   "source": [
    "import yfinance as yf   \n",
    "from datetime import datetime\n",
    "import lxml\n",
    "from lxml import html\n",
    "import requests\n",
    "import numpy as np\n",
    "import pandas as pd\n",
    "import time\n",
    "import random"
   ]
  },
  {
   "cell_type": "code",
   "execution_count": 2,
   "metadata": {},
   "outputs": [],
   "source": [
    "def get_page(url):\n",
    "    # Set up the request headers that we're going to use, to simulate\n",
    "    # a request by the Chrome browser. Simulating a request from a browser\n",
    "    # is generally good practice when building a scraper\n",
    "    headers = {\n",
    "        'scheme': 'https',\n",
    "        'accept': 'text/html,application/xhtml+xml,application/xml;q=0.9,image/webp,image/apng,*/*;q=0.8,application/signed-exchange;v=b3',\n",
    "        'accept-encoding': 'gzip, deflate, br',\n",
    "        'accept-language': 'en-US,en;q=0.9,te;q=0.8',\n",
    "        'cache-control': 'max-age=0',\n",
    "        'pragma': 'no-cache',\n",
    "        'referer': 'https://s.yimg.com/rq/darla/4-7-1/html/r-sf.html',\n",
    "        'sec-fetch-dest': 'image',\n",
    "        'sec-fetch-mode': 'no-cors',\n",
    "        'sec-fetch-site': 'cross-site',\n",
    "        'user-agent': 'Mozilla/5.0 (Windows NT 10.0; Win64; x64) AppleWebKit/537.36 (KHTML, like Gecko) Chrome/87.0.4280.141 Safari/537.36'\n",
    "    }\n",
    "\n",
    "    return requests.get(url, headers=headers)"
   ]
  },
  {
   "cell_type": "code",
   "execution_count": null,
   "metadata": {},
   "outputs": [],
   "source": []
  },
  {
   "cell_type": "code",
   "execution_count": 5,
   "metadata": {},
   "outputs": [
    {
     "name": "stdout",
     "output_type": "stream",
     "text": [
      "<class 'bytes'>\n",
      "C:\\Users\\karth\\OneDrive\\shared\\Scrapped_data\\scrapped\\\\3MINDIA.html\n",
      "got  3MINDIA\n"
     ]
    }
   ],
   "source": [
    "symbols = ['3MINDIA']\n",
    "for symbol in symbols:\n",
    "    page = get_page(\"https://www.screener.in/company/\"+symbol+\"/\")\n",
    "    print(type(page.content))\n",
    "    tree = page.content.decode(\"utf-8\").replace(\"\\\\n\",\"\\n\")\n",
    "    path = r\"C:\\Users\\karth\\OneDrive\\shared\\Scrapped_data\\scrapped\\\\\"+symbol+'.html'\n",
    "    print(path)\n",
    "    f = open(path, 'w',encoding='utf-8')\n",
    "    f.write(tree)\n",
    "    f.close()\n",
    "    print(\"got \",symbol)"
   ]
  },
  {
   "cell_type": "code",
   "execution_count": 6,
   "metadata": {},
   "outputs": [
    {
     "name": "stdout",
     "output_type": "stream",
     "text": [
      "Total tables: 10\n"
     ]
    },
    {
     "data": {
      "text/plain": [
       "[           Unnamed: 0 Dec 2017 Mar 2018 Jun 2018 Sep 2018 Dec 2018 Mar 2019  \\\n",
       " 0             Sales +      683      720      746      736      792      743   \n",
       " 1          Expenses +      557      564      588      634      624      640   \n",
       " 2    Operating Profit      126      156      158      102      167      103   \n",
       " 3               OPM %      18%      22%      21%      14%      21%      14%   \n",
       " 4        Other Income       27        9       33       17       13        2   \n",
       " 5            Interest        0        1        0        0        0        1   \n",
       " 6        Depreciation       11       11       11       11       11       11   \n",
       " 7   Profit before tax      143      153      180      108      169       94   \n",
       " 8               Tax %      34%      36%      30%      35%      35%      36%   \n",
       " 9          Net Profit       94       98      125       70      110       60   \n",
       " 10          EPS in Rs    83.51    86.70   111.30    62.40    97.82    53.55   \n",
       " 11                NaN    Notes    Notes    Notes    Notes    Notes    Notes   \n",
       " \n",
       "    Jun 2019 Sep 2019 Dec 2019 Mar 2020 Jun 2020 Sep 2020  \n",
       " 0       804      764      745      673      346      690  \n",
       " 1       656      634      648      597      395      577  \n",
       " 2       148      130       98       76      -48      113  \n",
       " 3       18%      17%      13%      11%     -14%      16%  \n",
       " 4         6       11       14       12        6        6  \n",
       " 5         1        1        1        1        1        0  \n",
       " 6        15       14       15       16       15       17  \n",
       " 7       139      126       96       72      -58      102  \n",
       " 8       35%      20%      25%      16%      26%      27%  \n",
       " 9        90      100       72       60      -43       75  \n",
       " 10    80.01    88.78    63.84    53.36   -37.74    66.61  \n",
       " 11    Notes    Notes    Notes    Notes    Notes    Notes  ,\n",
       "            Unnamed: 0 Mar 2018 Mar 2019 Mar 2020     TTM\n",
       " 0             Sales +     2710     3017     2987    2455\n",
       " 1          Expenses +     2211     2481     2537    2215\n",
       " 2    Operating Profit      499      536      450     239\n",
       " 3               OPM %      18%      18%      15%     10%\n",
       " 4        Other Income       55       60       46      39\n",
       " 5            Interest        2        1        4       3\n",
       " 6        Depreciation       44       44       59      62\n",
       " 7   Profit before tax      508      551      433     213\n",
       " 8               Tax %      34%      33%      26%     NaN\n",
       " 9          Net Profit      333      366      322     165\n",
       " 10          EPS in Rs   295.91   325.06   285.99  146.07\n",
       " 11  Dividend Payout %      -0%      -0%      -0%     NaN,\n",
       "   Compounded Sales Growth Compounded Sales Growth.1\n",
       " 0               10 Years:                         %\n",
       " 1                5 Years:                         %\n",
       " 2                3 Years:                         %\n",
       " 3                    TTM:                      -21%,\n",
       "   Compounded Profit Growth Compounded Profit Growth.1\n",
       " 0                10 Years:                          %\n",
       " 1                 5 Years:                          %\n",
       " 2                 3 Years:                          %\n",
       " 3                     TTM:                       -54%,\n",
       "   Stock Price CAGR Stock Price CAGR.1\n",
       " 0        10 Years:                19%\n",
       " 1         5 Years:                16%\n",
       " 2         3 Years:                 3%\n",
       " 3          1 Year:                -8%,\n",
       "   Return on Equity Return on Equity.1\n",
       " 0        10 Years:                  %\n",
       " 1         5 Years:                  %\n",
       " 2         3 Years:                  %\n",
       " 3       Last Year:                20%,\n",
       "             Unnamed: 0  Mar 2018  Mar 2019  Mar 2020  Sep 2020\n",
       " 0      Share Capital +        11        11        11        11\n",
       " 1             Reserves      1055      1422      1740      1770\n",
       " 2           Borrowings        10        14        42        31\n",
       " 3  Other Liabilities +      1234       672       578       529\n",
       " 4    Total Liabilities      2311      2118      2371      2341\n",
       " 5       Fixed Assets +       303       286       306       284\n",
       " 6                 CWIP         6        12         7         5\n",
       " 7          Investments         0         0         0         0\n",
       " 8       Other Assets +      2001      1820      2058      2052\n",
       " 9         Total Assets      2311      2118      2371      2341,\n",
       "                        Unnamed: 0  Mar 2018  Mar 2019  Mar 2020\n",
       " 0  Cash from Operating Activity +        36       253       245\n",
       " 1  Cash from Investing Activity +        25      -553         3\n",
       " 2  Cash from Financing Activity +        -2         3       -25\n",
       " 3                   Net Cash Flow        59      -297       223,\n",
       "            Unnamed: 0  Mar 2018 Mar 2019 Mar 2020\n",
       " 0              ROCE %       NaN      44%      27%\n",
       " 1         Debtor Days      77.0       71       65\n",
       " 2  Inventory Turnover       NaN     4.16     4.13,\n",
       "     Unnamed: 0  Mar 2018  Jun 2018  Sep 2018  Dec 2018  Mar 2019  Jun 2019  \\\n",
       " 0  Promoters +     75.00      75.0     75.00     75.00     75.00     75.00   \n",
       " 1       FIIs +      9.17       9.0      8.62      8.32      8.29      8.26   \n",
       " 2       DIIs +      2.05       2.0      1.93      2.23      2.22      2.15   \n",
       " 3     Public +     13.78      14.0     14.45     14.45     14.49     14.59   \n",
       " \n",
       "    Sep 2019  Dec 2019  Mar 2020  Jun 2020  Sep 2020  Dec 2020  \n",
       " 0     75.00     75.00     75.00     75.00     75.00     75.00  \n",
       " 1      6.79      5.19      4.85      3.32      3.59      4.28  \n",
       " 2      3.17      4.11      4.42      6.97      7.08      6.78  \n",
       " 3     15.04     15.70     15.73     14.71     14.33     13.94  ]"
      ]
     },
     "execution_count": 6,
     "metadata": {},
     "output_type": "execute_result"
    }
   ],
   "source": [
    "tableData = pd.read_html(r'C:\\Users\\karth\\OneDrive\\shared\\Scrapped_data\\scrapped\\3MINDIA.html')\n",
    "print(f'Total tables: {len(tableData)}')\n",
    "\n",
    "tableData\n",
    "\n",
    "\n"
   ]
  },
  {
   "cell_type": "code",
   "execution_count": null,
   "metadata": {},
   "outputs": [],
   "source": [
    "import lxml.html as LH\n",
    "import requests\n",
    "import pandas as pd\n",
    "def text(elt):\n",
    "    return elt.text_content().replace(u'\\xa0', u' ')\n",
    "\n",
    "url = r'https://www.screener.in/company/3MINDIA/consolidated/'\n",
    "r = requests.get(url)\n",
    "root = LH.fromstring(r.content)\n",
    "\n",
    "for table in root.xpath('//*[@id=\"peers\"]'):\n",
    "    print(\"in for\")\n",
    "    #header = [text(th) for th in table.xpath('//th')]        # 1\n",
    "    data = [[text(td) for td in tr.xpath('td')]  \n",
    "            for tr in table.xpath('//tr')]                   # 2\n",
    "    data = [row for row in data if True]    # 3 \n",
    "    data = pd.DataFrame(data)                # 4\n",
    "    data\n",
    "data"
   ]
  }
 ],
 "metadata": {
  "kernelspec": {
   "display_name": "Python 3",
   "language": "python",
   "name": "python3"
  },
  "language_info": {
   "codemirror_mode": {
    "name": "ipython",
    "version": 3
   },
   "file_extension": ".py",
   "mimetype": "text/x-python",
   "name": "python",
   "nbconvert_exporter": "python",
   "pygments_lexer": "ipython3",
   "version": "3.8.5"
  }
 },
 "nbformat": 4,
 "nbformat_minor": 4
}
